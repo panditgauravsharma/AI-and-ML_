{
 "cells": [
  {
   "cell_type": "markdown",
   "id": "8812f899-91a9-4834-8f40-0116eea8b044",
   "metadata": {},
   "source": [
    "##### classification"
   ]
  },
  {
   "cell_type": "code",
   "execution_count": 1,
   "id": "7bdc36cf-6ef1-4ac9-ba0e-1c8129ee91d2",
   "metadata": {},
   "outputs": [],
   "source": [
    "# output variable in the form of class\n",
    "# we have to distinct two maial whether we are having spam mail or not\n",
    "# classification algorithm  we used here\n",
    "# classifier maps the input into the respective category\n",
    "# Prediction if performed by this\n",
    "# two kinds of learner- Lazy learner and Active learner, \n",
    "# Lazy learner- datas is used to perform prediction\n",
    "# Active learner- we just find the pattern and prediction happen, no used of data after finding the pattern\n",
    "# Linear Models- Logistic Regression algo, - Support Vetor Machines\n",
    "# Non liner Models- KMN(K-nearest variable)\n",
    "# Binary classification- having two labels, ex: mail is spam or not, detected- abnormal condition, not detected- normal condition\n",
    "# Multi class Classification: Having more than one class lable ex: K-nearest neighbours\n",
    "# Multi-label Classification:\n",
    "# Imbalanced Classification: earthquake is present or not, it is very rare condition, ex: "
   ]
  },
  {
   "cell_type": "markdown",
   "id": "2de281e2-99dd-4151-b1e5-9b5a42a2c4fb",
   "metadata": {},
   "source": [
    "###### Logistic Regression using Python"
   ]
  },
  {
   "cell_type": "code",
   "execution_count": 2,
   "id": "a4d0e0d7-ab64-47da-a3d8-2ac917a9a8c8",
   "metadata": {},
   "outputs": [],
   "source": [
    "# To classify some data., output variable is in binnary form, \n",
    "# Regression means when output value is continuous, but here regression is classification, \n",
    "# Linear Regression , having dependent and independent variable\n",
    "# Problem: Few received the email and few not received the email, input var is age, output: they received the mail or not., output variable is binary\n",
    "# based on the age they decided whether they have to send the mail or not\n",
    "# Linear regression  for this.\n",
    "# in between we don't have nothing, no point either they are at x axis or \n",
    "# for this we create a line in new way, for this we used sigmoid function\n",
    "# line is bend to cover more  point.\n",
    "# "
   ]
  },
  {
   "cell_type": "code",
   "execution_count": 3,
   "id": "11c5638b-e803-45fb-b954-7da15707795c",
   "metadata": {},
   "outputs": [],
   "source": [
    "import numpy as np\n",
    "import matplotlib.pyplot as plt"
   ]
  },
  {
   "cell_type": "code",
   "execution_count": 4,
   "id": "3b18348a-e5d7-4218-a276-60326b52c4d5",
   "metadata": {},
   "outputs": [],
   "source": [
    "x=np.arange(-5,5,.25) # creating an arry start from -5 and reache to 5 by incrementing .25"
   ]
  },
  {
   "cell_type": "code",
   "execution_count": 5,
   "id": "4bbf90ff-3f99-45d8-89e5-034f92d5375f",
   "metadata": {},
   "outputs": [
    {
     "data": {
      "text/plain": [
       "array([-5.  , -4.75, -4.5 , -4.25, -4.  , -3.75, -3.5 , -3.25, -3.  ,\n",
       "       -2.75, -2.5 , -2.25, -2.  , -1.75, -1.5 , -1.25, -1.  , -0.75,\n",
       "       -0.5 , -0.25,  0.  ,  0.25,  0.5 ,  0.75,  1.  ,  1.25,  1.5 ,\n",
       "        1.75,  2.  ,  2.25,  2.5 ,  2.75,  3.  ,  3.25,  3.5 ,  3.75,\n",
       "        4.  ,  4.25,  4.5 ,  4.75])"
      ]
     },
     "execution_count": 5,
     "metadata": {},
     "output_type": "execute_result"
    }
   ],
   "source": [
    "x"
   ]
  },
  {
   "cell_type": "code",
   "execution_count": 6,
   "id": "7323b608-409b-4d8d-8eb8-15464b86378c",
   "metadata": {},
   "outputs": [],
   "source": [
    "y=1/(1+np.exp(-x))\n"
   ]
  },
  {
   "cell_type": "code",
   "execution_count": 7,
   "id": "86f853c2-68f8-47e8-a3d3-4b9914b0876e",
   "metadata": {},
   "outputs": [
    {
     "data": {
      "text/plain": [
       "array([0.00669285, 0.00857749, 0.01098694, 0.01406363, 0.01798621,\n",
       "       0.02297737, 0.02931223, 0.03732689, 0.04742587, 0.06008665,\n",
       "       0.07585818, 0.09534946, 0.11920292, 0.1480472 , 0.18242552,\n",
       "       0.22270014, 0.26894142, 0.3208213 , 0.37754067, 0.4378235 ,\n",
       "       0.5       , 0.5621765 , 0.62245933, 0.6791787 , 0.73105858,\n",
       "       0.77729986, 0.81757448, 0.8519528 , 0.88079708, 0.90465054,\n",
       "       0.92414182, 0.93991335, 0.95257413, 0.96267311, 0.97068777,\n",
       "       0.97702263, 0.98201379, 0.98593637, 0.98901306, 0.99142251])"
      ]
     },
     "execution_count": 7,
     "metadata": {},
     "output_type": "execute_result"
    }
   ],
   "source": [
    "y"
   ]
  },
  {
   "cell_type": "code",
   "execution_count": 8,
   "id": "a1afb190-4c77-4fa6-b271-e5ddaf055e68",
   "metadata": {},
   "outputs": [
    {
     "data": {
      "text/plain": [
       "[<matplotlib.lines.Line2D at 0x27ebdf02950>]"
      ]
     },
     "execution_count": 8,
     "metadata": {},
     "output_type": "execute_result"
    },
    {
     "data": {
      "image/png": "[encoded data removed]",
      "text/plain": [
       "<Figure size 640x480 with 1 Axes>"
      ]
     },
     "metadata": {},
     "output_type": "display_data"
    }
   ],
   "source": [
    "plt.plot(x,y)"
   ]
  },
  {
   "cell_type": "code",
   "execution_count": 9,
   "id": "8cf3de47-46d0-429a-97fa-b1a7717871cc",
   "metadata": {},
   "outputs": [],
   "source": [
    "x=np.arange(-10,10,.25)"
   ]
  },
  {
   "cell_type": "code",
   "execution_count": 11,
   "id": "294be5d9-0bbb-480c-9a41-4b5b37e6fc1e",
   "metadata": {},
   "outputs": [
    {
     "data": {
      "text/plain": [
       "array([-10.  ,  -9.75,  -9.5 ,  -9.25,  -9.  ,  -8.75,  -8.5 ,  -8.25,\n",
       "        -8.  ,  -7.75,  -7.5 ,  -7.25,  -7.  ,  -6.75,  -6.5 ,  -6.25,\n",
       "        -6.  ,  -5.75,  -5.5 ,  -5.25,  -5.  ,  -4.75,  -4.5 ,  -4.25,\n",
       "        -4.  ,  -3.75,  -3.5 ,  -3.25,  -3.  ,  -2.75,  -2.5 ,  -2.25,\n",
       "        -2.  ,  -1.75,  -1.5 ,  -1.25,  -1.  ,  -0.75,  -0.5 ,  -0.25,\n",
       "         0.  ,   0.25,   0.5 ,   0.75,   1.  ,   1.25,   1.5 ,   1.75,\n",
       "         2.  ,   2.25,   2.5 ,   2.75,   3.  ,   3.25,   3.5 ,   3.75,\n",
       "         4.  ,   4.25,   4.5 ,   4.75,   5.  ,   5.25,   5.5 ,   5.75,\n",
       "         6.  ,   6.25,   6.5 ,   6.75,   7.  ,   7.25,   7.5 ,   7.75,\n",
       "         8.  ,   8.25,   8.5 ,   8.75,   9.  ,   9.25,   9.5 ,   9.75])"
      ]
     },
     "execution_count": 11,
     "metadata": {},
     "output_type": "execute_result"
    }
   ],
   "source": [
    "x"
   ]
  },
  {
   "cell_type": "code",
   "execution_count": 12,
   "id": "ad889dd9-82bd-4a37-b4da-539d58d3dcc3",
   "metadata": {},
   "outputs": [
    {
     "data": {
      "text/plain": [
       "0.9525741268224334"
      ]
     },
     "execution_count": 12,
     "metadata": {},
     "output_type": "execute_result"
    }
   ],
   "source": [
    "1/(1+np.exp(-3))# find sigmoid"
   ]
  },
  {
   "cell_type": "code",
   "execution_count": 13,
   "id": "de57bda1-7367-4824-8045-86c8de579f6f",
   "metadata": {},
   "outputs": [
    {
     "data": {
      "text/plain": [
       "0.5016749937341323"
      ]
     },
     "execution_count": 13,
     "metadata": {},
     "output_type": "execute_result"
    }
   ],
   "source": [
    "1/(1+np.exp(-0.0067))# find sigmoid"
   ]
  },
  {
   "cell_type": "code",
   "execution_count": null,
   "id": "4018141e-6682-4b6c-b923-4100c70aaffa",
   "metadata": {},
   "outputs": [],
   "source": [
    "# value 50% and above 50% than it is 1 and if it is below it becomes 0\n",
    "# here we have only two category data 0 category and 1 categry data\n",
    "# for this uses sigmoid function"
   ]
  }
 ],
 "metadata": {
  "kernelspec": {
   "display_name": "Python 3 (ipykernel)",
   "language": "python",
   "name": "python3"
  },
  "language_info": {
   "codemirror_mode": {
    "name": "ipython",
    "version": 3
   },
   "file_extension": ".py",
   "mimetype": "text/x-python",
   "name": "python",
   "nbconvert_exporter": "python",
   "pygments_lexer": "ipython3",
   "version": "3.11.7"
  }
 },
 "nbformat": 4,
 "nbformat_minor": 5
}
