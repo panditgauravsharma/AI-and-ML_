{
 "cells": [
  {
   "cell_type": "code",
   "execution_count": 1,
   "id": "e82ba0d7-627a-4101-aee8-fb7a42d4561b",
   "metadata": {},
   "outputs": [
    {
     "name": "stdout",
     "output_type": "stream",
     "text": [
      "Hello, World!\n"
     ]
    }
   ],
   "source": [
    "print(\"Hello, World!\")"
   ]
  },
  {
   "cell_type": "code",
   "execution_count": 4,
   "id": "bc7ea466-c4b2-42c8-9e8f-0d70dc16d2f2",
   "metadata": {},
   "outputs": [
    {
     "name": "stdin",
     "output_type": "stream",
     "text": [
      "enter the teperatur: -40\n"
     ]
    },
    {
     "name": "stdout",
     "output_type": "stream",
     "text": [
      "farenhite Temp -40.0\n"
     ]
    }
   ],
   "source": [
    "cent=int(input('enter the teperatur:'))\n",
    "far=cent*1.8+32\n",
    "print('farenhite Temp',far)"
   ]
  },
  {
   "cell_type": "code",
   "execution_count": 7,
   "id": "41590648-45ac-4bd6-b3f0-53f96737b96c",
   "metadata": {},
   "outputs": [],
   "source": [
    "#####simple python program"
   ]
  },
  {
   "cell_type": "code",
   "execution_count": 19,
   "id": "6d65f459-87fd-489f-a97e-ed32dc18c943",
   "metadata": {},
   "outputs": [
    {
     "name": "stdin",
     "output_type": "stream",
     "text": [
      "enter a number -10\n"
     ]
    },
    {
     "name": "stdout",
     "output_type": "stream",
     "text": [
      "<class 'int'>\n"
     ]
    }
   ],
   "source": [
    "a=int(input('enter a number'))\n",
    "if a>0:\n",
    "    print('Number is positive')\n",
    "elif a==0:\n",
    "    print('Number is zero')\n",
    "else:\n",
    "    print(type(a))\n",
    "\n"
   ]
  },
  {
   "cell_type": "code",
   "execution_count": 21,
   "id": "62ff3ddc-2145-49f9-bd95-3f04a7938e2c",
   "metadata": {},
   "outputs": [
    {
     "name": "stdout",
     "output_type": "stream",
     "text": [
      "tushar\n",
      "tushar\n",
      "tushar\n",
      "tushar\n",
      "tushar\n",
      "tushar\n",
      "tushar\n",
      "tushar\n",
      "tushar\n",
      "tushar\n"
     ]
    }
   ],
   "source": [
    "count=0\n",
    "while (count<10):\n",
    "    print('tushar')\n",
    "    count=count+1"
   ]
  },
  {
   "cell_type": "code",
   "execution_count": 22,
   "id": "3779265a-7c94-4236-8d68-914b088d2f7d",
   "metadata": {},
   "outputs": [
    {
     "name": "stdout",
     "output_type": "stream",
     "text": [
      "67\n",
      "23\n",
      "16\n",
      "33\n",
      "27\n"
     ]
    }
   ],
   "source": [
    "for i in 67,23,16,33,27:\n",
    "    print(i)"
   ]
  },
  {
   "cell_type": "code",
   "execution_count": 23,
   "id": "0d6da877-3e18-498b-aec4-767b470782a8",
   "metadata": {},
   "outputs": [
    {
     "name": "stdout",
     "output_type": "stream",
     "text": [
      "PPPPPPPPPP\n",
      "uuuuuuuuuu\n",
      "nnnnnnnnnn\n",
      "eeeeeeeeee\n"
     ]
    }
   ],
   "source": [
    "for i in 'Pune':\n",
    "    print(i*10)"
   ]
  },
  {
   "cell_type": "code",
   "execution_count": 24,
   "id": "35a211bf-4005-4d4c-9dcd-19da71d77368",
   "metadata": {},
   "outputs": [
    {
     "name": "stdout",
     "output_type": "stream",
     "text": [
      "0\n",
      "1\n",
      "4\n",
      "9\n",
      "16\n",
      "25\n",
      "36\n",
      "49\n",
      "64\n",
      "81\n",
      "100\n",
      "121\n",
      "144\n",
      "169\n",
      "196\n",
      "225\n",
      "256\n",
      "289\n",
      "324\n",
      "361\n",
      "400\n",
      "441\n",
      "484\n",
      "529\n",
      "576\n",
      "625\n",
      "676\n",
      "729\n",
      "784\n",
      "841\n",
      "900\n",
      "961\n",
      "1024\n",
      "1089\n",
      "1156\n",
      "1225\n",
      "1296\n",
      "1369\n",
      "1444\n",
      "1521\n",
      "1600\n",
      "1681\n",
      "1764\n",
      "1849\n",
      "1936\n",
      "2025\n",
      "2116\n",
      "2209\n",
      "2304\n",
      "2401\n",
      "2500\n",
      "2601\n",
      "2704\n",
      "2809\n",
      "2916\n",
      "3025\n",
      "3136\n",
      "3249\n",
      "3364\n",
      "3481\n",
      "3600\n",
      "3721\n",
      "3844\n",
      "3969\n",
      "4096\n",
      "4225\n",
      "4356\n",
      "4489\n",
      "4624\n",
      "4761\n",
      "4900\n",
      "5041\n",
      "5184\n",
      "5329\n",
      "5476\n",
      "5625\n",
      "5776\n",
      "5929\n",
      "6084\n",
      "6241\n",
      "6400\n",
      "6561\n",
      "6724\n",
      "6889\n",
      "7056\n",
      "7225\n",
      "7396\n",
      "7569\n",
      "7744\n",
      "7921\n",
      "8100\n",
      "8281\n",
      "8464\n",
      "8649\n",
      "8836\n",
      "9025\n",
      "9216\n",
      "9409\n",
      "9604\n",
      "9801\n"
     ]
    }
   ],
   "source": [
    "for x in range(100):\n",
    "    print(x*x)"
   ]
  },
  {
   "cell_type": "code",
   "execution_count": 25,
   "id": "b5f702d8-2ddb-4525-b52b-c1b0e8b501db",
   "metadata": {},
   "outputs": [
    {
     "name": "stdout",
     "output_type": "stream",
     "text": [
      "0\n",
      "1\n",
      "4\n",
      "9\n",
      "16\n",
      "36\n",
      "49\n",
      "64\n",
      "81\n"
     ]
    }
   ],
   "source": [
    "for x in range(10):\n",
    "    if x==5:\n",
    "        continue\n",
    "    print(x*x)\n",
    "    "
   ]
  },
  {
   "cell_type": "code",
   "execution_count": 35,
   "id": "1f880e3e-8690-46d6-9cce-4de4cac97a1b",
   "metadata": {},
   "outputs": [],
   "source": [
    "def square(num):\n",
    "    sq=num*num\n",
    "    return sq"
   ]
  },
  {
   "cell_type": "code",
   "execution_count": 36,
   "id": "e7e16d84-0225-428d-a30e-f967a5e798f5",
   "metadata": {},
   "outputs": [
    {
     "data": {
      "text/plain": [
       "16"
      ]
     },
     "execution_count": 36,
     "metadata": {},
     "output_type": "execute_result"
    }
   ],
   "source": [
    "square(4)"
   ]
  },
  {
   "cell_type": "code",
   "execution_count": 37,
   "id": "c4ac2e26-d996-4ce7-8fca-06386f77251a",
   "metadata": {},
   "outputs": [],
   "source": [
    "def calc(num):\n",
    "    sq=num*num\n",
    "    cu=num**3\n",
    "    return sq,cu\n",
    "    "
   ]
  },
  {
   "cell_type": "code",
   "execution_count": 38,
   "id": "cfa88edc-d604-4b7e-8abf-18b85239d612",
   "metadata": {},
   "outputs": [
    {
     "data": {
      "text/plain": [
       "(9, 27)"
      ]
     },
     "execution_count": 38,
     "metadata": {},
     "output_type": "execute_result"
    }
   ],
   "source": [
    "calc(3)"
   ]
  },
  {
   "cell_type": "code",
   "execution_count": 39,
   "id": "3c4194c0-6656-4be7-a6b2-5ed548372381",
   "metadata": {},
   "outputs": [],
   "source": [
    "###### Data Structur"
   ]
  },
  {
   "cell_type": "code",
   "execution_count": 40,
   "id": "533947dd-8b27-4b4f-a2e9-a0b9d1a32f91",
   "metadata": {},
   "outputs": [],
   "source": [
    "num1=[1,2,3,4,5]"
   ]
  },
  {
   "cell_type": "code",
   "execution_count": 41,
   "id": "36081f1d-98ad-42a2-a8a9-9ea33714a0c0",
   "metadata": {},
   "outputs": [
    {
     "data": {
      "text/plain": [
       "type[[1, 2, 3, 4, 5]]"
      ]
     },
     "execution_count": 41,
     "metadata": {},
     "output_type": "execute_result"
    }
   ],
   "source": [
    "type[num1]"
   ]
  },
  {
   "cell_type": "code",
   "execution_count": 42,
   "id": "d05d4e19-0135-4564-ab4e-1b4125706b81",
   "metadata": {},
   "outputs": [
    {
     "data": {
      "text/plain": [
       "list"
      ]
     },
     "execution_count": 42,
     "metadata": {},
     "output_type": "execute_result"
    }
   ],
   "source": [
    "type(num1)"
   ]
  },
  {
   "cell_type": "code",
   "execution_count": 43,
   "id": "65e1774b-14d6-4de5-907d-3b3ab40e0bbe",
   "metadata": {},
   "outputs": [
    {
     "ename": "SyntaxError",
     "evalue": "invalid syntax (3056305623.py, line 1)",
     "output_type": "error",
     "traceback": [
      "\u001b[1;36m  Cell \u001b[1;32mIn[43], line 1\u001b[1;36m\u001b[0m\n\u001b[1;33m    num1{5}\u001b[0m\n\u001b[1;37m        ^\u001b[0m\n\u001b[1;31mSyntaxError\u001b[0m\u001b[1;31m:\u001b[0m invalid syntax\n"
     ]
    }
   ],
   "source": [
    "num1{5}"
   ]
  },
  {
   "cell_type": "code",
   "execution_count": 44,
   "id": "7b420d6d-f271-415f-8368-b53d556ed904",
   "metadata": {},
   "outputs": [
    {
     "ename": "IndexError",
     "evalue": "list index out of range",
     "output_type": "error",
     "traceback": [
      "\u001b[1;31m---------------------------------------------------------------------------\u001b[0m",
      "\u001b[1;31mIndexError\u001b[0m                                Traceback (most recent call last)",
      "Cell \u001b[1;32mIn[44], line 1\u001b[0m\n\u001b[1;32m----> 1\u001b[0m num1[\u001b[38;5;241m5\u001b[39m]\n",
      "\u001b[1;31mIndexError\u001b[0m: list index out of range"
     ]
    }
   ],
   "source": [
    "num1[5]"
   ]
  },
  {
   "cell_type": "code",
   "execution_count": 45,
   "id": "301bad12-cfd2-418a-815d-6c804bdf2606",
   "metadata": {},
   "outputs": [
    {
     "data": {
      "text/plain": [
       "3"
      ]
     },
     "execution_count": 45,
     "metadata": {},
     "output_type": "execute_result"
    }
   ],
   "source": [
    "num1[2]"
   ]
  },
  {
   "cell_type": "code",
   "execution_count": 46,
   "id": "217620d3-5075-499f-8f76-65577b6321ef",
   "metadata": {},
   "outputs": [],
   "source": [
    "num2=(1,2,3)"
   ]
  },
  {
   "cell_type": "code",
   "execution_count": 47,
   "id": "c06a4828-3dd6-4991-99c3-e0f5cc89c4de",
   "metadata": {},
   "outputs": [
    {
     "data": {
      "text/plain": [
       "tuple"
      ]
     },
     "execution_count": 47,
     "metadata": {},
     "output_type": "execute_result"
    }
   ],
   "source": [
    "type(num2)"
   ]
  },
  {
   "cell_type": "code",
   "execution_count": 48,
   "id": "9794039b-4c13-4117-b8b0-d1acd5a86454",
   "metadata": {},
   "outputs": [],
   "source": [
    "num1[2]=100"
   ]
  },
  {
   "cell_type": "code",
   "execution_count": 49,
   "id": "3c33a27c-5ea5-4f7e-8e60-0a5aceb34eee",
   "metadata": {},
   "outputs": [
    {
     "ename": "TypeError",
     "evalue": "'tuple' object does not support item assignment",
     "output_type": "error",
     "traceback": [
      "\u001b[1;31m---------------------------------------------------------------------------\u001b[0m",
      "\u001b[1;31mTypeError\u001b[0m                                 Traceback (most recent call last)",
      "Cell \u001b[1;32mIn[49], line 1\u001b[0m\n\u001b[1;32m----> 1\u001b[0m num2[\u001b[38;5;241m2\u001b[39m]\u001b[38;5;241m=\u001b[39m\u001b[38;5;241m100\u001b[39m\n",
      "\u001b[1;31mTypeError\u001b[0m: 'tuple' object does not support item assignment"
     ]
    }
   ],
   "source": [
    "num2[2]=100"
   ]
  },
  {
   "cell_type": "code",
   "execution_count": 50,
   "id": "53493ac5-56b3-4128-9ac0-6ec18039a493",
   "metadata": {},
   "outputs": [],
   "source": [
    "num3={1,2,3}"
   ]
  },
  {
   "cell_type": "code",
   "execution_count": 51,
   "id": "a5bb4603-4f9f-4a10-a9a9-a465c9e2b482",
   "metadata": {},
   "outputs": [
    {
     "ename": "TypeError",
     "evalue": "'set' object does not support item assignment",
     "output_type": "error",
     "traceback": [
      "\u001b[1;31m---------------------------------------------------------------------------\u001b[0m",
      "\u001b[1;31mTypeError\u001b[0m                                 Traceback (most recent call last)",
      "Cell \u001b[1;32mIn[51], line 1\u001b[0m\n\u001b[1;32m----> 1\u001b[0m num3[\u001b[38;5;241m2\u001b[39m]\u001b[38;5;241m=\u001b[39m\u001b[38;5;241m2\u001b[39m\n",
      "\u001b[1;31mTypeError\u001b[0m: 'set' object does not support item assignment"
     ]
    }
   ],
   "source": [
    "num3[2]=2"
   ]
  },
  {
   "cell_type": "code",
   "execution_count": 52,
   "id": "9b7e3538-196d-4608-9198-6a0db1a918fc",
   "metadata": {},
   "outputs": [],
   "source": [
    "num4={1:100,2:200}"
   ]
  },
  {
   "cell_type": "code",
   "execution_count": 53,
   "id": "f04eaa09-5eb3-46e6-8380-8bce470b6670",
   "metadata": {},
   "outputs": [
    {
     "data": {
      "text/plain": [
       "dict"
      ]
     },
     "execution_count": 53,
     "metadata": {},
     "output_type": "execute_result"
    }
   ],
   "source": [
    "type(num4)"
   ]
  },
  {
   "cell_type": "code",
   "execution_count": 54,
   "id": "245832ab-1f2f-4c90-b8eb-bb0abccb651a",
   "metadata": {},
   "outputs": [
    {
     "data": {
      "text/plain": [
       "100"
      ]
     },
     "execution_count": 54,
     "metadata": {},
     "output_type": "execute_result"
    }
   ],
   "source": [
    "num4[1]"
   ]
  },
  {
   "cell_type": "code",
   "execution_count": 55,
   "id": "8c3ebcdc-d486-42de-a347-58c068a3a5ca",
   "metadata": {},
   "outputs": [],
   "source": [
    "num4={'x':300}"
   ]
  },
  {
   "cell_type": "code",
   "execution_count": 56,
   "id": "8c9d128c-b39c-4627-8245-f06ebb0cec62",
   "metadata": {},
   "outputs": [
    {
     "data": {
      "text/plain": [
       "300"
      ]
     },
     "execution_count": 56,
     "metadata": {},
     "output_type": "execute_result"
    }
   ],
   "source": [
    "num4['x']"
   ]
  },
  {
   "cell_type": "code",
   "execution_count": 57,
   "id": "c8ee5467-0541-4659-8aa5-07ccd262cc14",
   "metadata": {},
   "outputs": [],
   "source": [
    "#####class"
   ]
  },
  {
   "cell_type": "code",
   "execution_count": 58,
   "id": "070cd1b1-420c-4a2a-a0ac-f3c60cf1d872",
   "metadata": {},
   "outputs": [],
   "source": [
    "num1.reverse()"
   ]
  },
  {
   "cell_type": "code",
   "execution_count": 59,
   "id": "13508ce2-8ba1-43e6-9f21-cdb28979b6b0",
   "metadata": {},
   "outputs": [],
   "source": [
    "class Person:\n",
    "    def __init__(self,n,a):\n",
    "        self.name=n\n",
    "        self.age=a\n",
    "    def show(self):\n",
    "        print('values are:')\n",
    "        print(self.name,self.age)\n",
    "    "
   ]
  },
  {
   "cell_type": "code",
   "execution_count": 60,
   "id": "67de7ea5-fd86-4783-ae24-f8811a19cfa7",
   "metadata": {},
   "outputs": [],
   "source": [
    "p1=Person('ajay',34)"
   ]
  },
  {
   "cell_type": "code",
   "execution_count": 61,
   "id": "61e7be80-5781-4f87-9ddc-160fa239b80e",
   "metadata": {},
   "outputs": [
    {
     "data": {
      "text/plain": [
       "'ajay'"
      ]
     },
     "execution_count": 61,
     "metadata": {},
     "output_type": "execute_result"
    }
   ],
   "source": [
    "p1.name"
   ]
  },
  {
   "cell_type": "code",
   "execution_count": 62,
   "id": "0b2fa5e0-b0b2-48d8-b0a5-2efc339755ae",
   "metadata": {},
   "outputs": [
    {
     "data": {
      "text/plain": [
       "34"
      ]
     },
     "execution_count": 62,
     "metadata": {},
     "output_type": "execute_result"
    }
   ],
   "source": [
    "p1.age"
   ]
  },
  {
   "cell_type": "code",
   "execution_count": 63,
   "id": "131afb91-6b6d-42a3-a566-ad7250f35c56",
   "metadata": {},
   "outputs": [
    {
     "name": "stdout",
     "output_type": "stream",
     "text": [
      "values are:\n",
      "ajay 34\n"
     ]
    }
   ],
   "source": [
    "p1.show()"
   ]
  },
  {
   "cell_type": "code",
   "execution_count": 64,
   "id": "45d84e24-ba1a-4b2d-96bd-64268b0112f6",
   "metadata": {},
   "outputs": [],
   "source": [
    "class Person:\n",
    "    def __init__(self,n,a):\n",
    "        self.name=n\n",
    "        self.age=a\n",
    "    def show(self):\n",
    "        print('values are:')\n",
    "        print(self.name,self.age)"
   ]
  },
  {
   "cell_type": "code",
   "execution_count": 65,
   "id": "2dfb564c-7a4f-4e82-8ee7-4afbf2e9f9df",
   "metadata": {},
   "outputs": [],
   "source": [
    "import math"
   ]
  },
  {
   "cell_type": "code",
   "execution_count": 66,
   "id": "1091a41b-4be7-4282-bb47-827b9f6dc50b",
   "metadata": {},
   "outputs": [
    {
     "name": "stdout",
     "output_type": "stream",
     "text": [
      "Help on built-in module math:\n",
      "\n",
      "NAME\n",
      "    math\n",
      "\n",
      "DESCRIPTION\n",
      "    This module provides access to the mathematical functions\n",
      "    defined by the C standard.\n",
      "\n",
      "FUNCTIONS\n",
      "    acos(x, /)\n",
      "        Return the arc cosine (measured in radians) of x.\n",
      "        \n",
      "        The result is between 0 and pi.\n",
      "    \n",
      "    acosh(x, /)\n",
      "        Return the inverse hyperbolic cosine of x.\n",
      "    \n",
      "    asin(x, /)\n",
      "        Return the arc sine (measured in radians) of x.\n",
      "        \n",
      "        The result is between -pi/2 and pi/2.\n",
      "    \n",
      "    asinh(x, /)\n",
      "        Return the inverse hyperbolic sine of x.\n",
      "    \n",
      "    atan(x, /)\n",
      "        Return the arc tangent (measured in radians) of x.\n",
      "        \n",
      "        The result is between -pi/2 and pi/2.\n",
      "    \n",
      "    atan2(y, x, /)\n",
      "        Return the arc tangent (measured in radians) of y/x.\n",
      "        \n",
      "        Unlike atan(y/x), the signs of both x and y are considered.\n",
      "    \n",
      "    atanh(x, /)\n",
      "        Return the inverse hyperbolic tangent of x.\n",
      "    \n",
      "    cbrt(x, /)\n",
      "        Return the cube root of x.\n",
      "    \n",
      "    ceil(x, /)\n",
      "        Return the ceiling of x as an Integral.\n",
      "        \n",
      "        This is the smallest integer >= x.\n",
      "    \n",
      "    comb(n, k, /)\n",
      "        Number of ways to choose k items from n items without repetition and without order.\n",
      "        \n",
      "        Evaluates to n! / (k! * (n - k)!) when k <= n and evaluates\n",
      "        to zero when k > n.\n",
      "        \n",
      "        Also called the binomial coefficient because it is equivalent\n",
      "        to the coefficient of k-th term in polynomial expansion of the\n",
      "        expression (1 + x)**n.\n",
      "        \n",
      "        Raises TypeError if either of the arguments are not integers.\n",
      "        Raises ValueError if either of the arguments are negative.\n",
      "    \n",
      "    copysign(x, y, /)\n",
      "        Return a float with the magnitude (absolute value) of x but the sign of y.\n",
      "        \n",
      "        On platforms that support signed zeros, copysign(1.0, -0.0)\n",
      "        returns -1.0.\n",
      "    \n",
      "    cos(x, /)\n",
      "        Return the cosine of x (measured in radians).\n",
      "    \n",
      "    cosh(x, /)\n",
      "        Return the hyperbolic cosine of x.\n",
      "    \n",
      "    degrees(x, /)\n",
      "        Convert angle x from radians to degrees.\n",
      "    \n",
      "    dist(p, q, /)\n",
      "        Return the Euclidean distance between two points p and q.\n",
      "        \n",
      "        The points should be specified as sequences (or iterables) of\n",
      "        coordinates.  Both inputs must have the same dimension.\n",
      "        \n",
      "        Roughly equivalent to:\n",
      "            sqrt(sum((px - qx) ** 2.0 for px, qx in zip(p, q)))\n",
      "    \n",
      "    erf(x, /)\n",
      "        Error function at x.\n",
      "    \n",
      "    erfc(x, /)\n",
      "        Complementary error function at x.\n",
      "    \n",
      "    exp(x, /)\n",
      "        Return e raised to the power of x.\n",
      "    \n",
      "    exp2(x, /)\n",
      "        Return 2 raised to the power of x.\n",
      "    \n",
      "    expm1(x, /)\n",
      "        Return exp(x)-1.\n",
      "        \n",
      "        This function avoids the loss of precision involved in the direct evaluation of exp(x)-1 for small x.\n",
      "    \n",
      "    fabs(x, /)\n",
      "        Return the absolute value of the float x.\n",
      "    \n",
      "    factorial(n, /)\n",
      "        Find n!.\n",
      "        \n",
      "        Raise a ValueError if x is negative or non-integral.\n",
      "    \n",
      "    floor(x, /)\n",
      "        Return the floor of x as an Integral.\n",
      "        \n",
      "        This is the largest integer <= x.\n",
      "    \n",
      "    fmod(x, y, /)\n",
      "        Return fmod(x, y), according to platform C.\n",
      "        \n",
      "        x % y may differ.\n",
      "    \n",
      "    frexp(x, /)\n",
      "        Return the mantissa and exponent of x, as pair (m, e).\n",
      "        \n",
      "        m is a float and e is an int, such that x = m * 2.**e.\n",
      "        If x is 0, m and e are both 0.  Else 0.5 <= abs(m) < 1.0.\n",
      "    \n",
      "    fsum(seq, /)\n",
      "        Return an accurate floating point sum of values in the iterable seq.\n",
      "        \n",
      "        Assumes IEEE-754 floating point arithmetic.\n",
      "    \n",
      "    gamma(x, /)\n",
      "        Gamma function at x.\n",
      "    \n",
      "    gcd(*integers)\n",
      "        Greatest Common Divisor.\n",
      "    \n",
      "    hypot(...)\n",
      "        hypot(*coordinates) -> value\n",
      "        \n",
      "        Multidimensional Euclidean distance from the origin to a point.\n",
      "        \n",
      "        Roughly equivalent to:\n",
      "            sqrt(sum(x**2 for x in coordinates))\n",
      "        \n",
      "        For a two dimensional point (x, y), gives the hypotenuse\n",
      "        using the Pythagorean theorem:  sqrt(x*x + y*y).\n",
      "        \n",
      "        For example, the hypotenuse of a 3/4/5 right triangle is:\n",
      "        \n",
      "            >>> hypot(3.0, 4.0)\n",
      "            5.0\n",
      "    \n",
      "    isclose(a, b, *, rel_tol=1e-09, abs_tol=0.0)\n",
      "        Determine whether two floating point numbers are close in value.\n",
      "        \n",
      "          rel_tol\n",
      "            maximum difference for being considered \"close\", relative to the\n",
      "            magnitude of the input values\n",
      "          abs_tol\n",
      "            maximum difference for being considered \"close\", regardless of the\n",
      "            magnitude of the input values\n",
      "        \n",
      "        Return True if a is close in value to b, and False otherwise.\n",
      "        \n",
      "        For the values to be considered close, the difference between them\n",
      "        must be smaller than at least one of the tolerances.\n",
      "        \n",
      "        -inf, inf and NaN behave similarly to the IEEE 754 Standard.  That\n",
      "        is, NaN is not close to anything, even itself.  inf and -inf are\n",
      "        only close to themselves.\n",
      "    \n",
      "    isfinite(x, /)\n",
      "        Return True if x is neither an infinity nor a NaN, and False otherwise.\n",
      "    \n",
      "    isinf(x, /)\n",
      "        Return True if x is a positive or negative infinity, and False otherwise.\n",
      "    \n",
      "    isnan(x, /)\n",
      "        Return True if x is a NaN (not a number), and False otherwise.\n",
      "    \n",
      "    isqrt(n, /)\n",
      "        Return the integer part of the square root of the input.\n",
      "    \n",
      "    lcm(*integers)\n",
      "        Least Common Multiple.\n",
      "    \n",
      "    ldexp(x, i, /)\n",
      "        Return x * (2**i).\n",
      "        \n",
      "        This is essentially the inverse of frexp().\n",
      "    \n",
      "    lgamma(x, /)\n",
      "        Natural logarithm of absolute value of Gamma function at x.\n",
      "    \n",
      "    log(...)\n",
      "        log(x, [base=math.e])\n",
      "        Return the logarithm of x to the given base.\n",
      "        \n",
      "        If the base not specified, returns the natural logarithm (base e) of x.\n",
      "    \n",
      "    log10(x, /)\n",
      "        Return the base 10 logarithm of x.\n",
      "    \n",
      "    log1p(x, /)\n",
      "        Return the natural logarithm of 1+x (base e).\n",
      "        \n",
      "        The result is computed in a way which is accurate for x near zero.\n",
      "    \n",
      "    log2(x, /)\n",
      "        Return the base 2 logarithm of x.\n",
      "    \n",
      "    modf(x, /)\n",
      "        Return the fractional and integer parts of x.\n",
      "        \n",
      "        Both results carry the sign of x and are floats.\n",
      "    \n",
      "    nextafter(x, y, /)\n",
      "        Return the next floating-point value after x towards y.\n",
      "    \n",
      "    perm(n, k=None, /)\n",
      "        Number of ways to choose k items from n items without repetition and with order.\n",
      "        \n",
      "        Evaluates to n! / (n - k)! when k <= n and evaluates\n",
      "        to zero when k > n.\n",
      "        \n",
      "        If k is not specified or is None, then k defaults to n\n",
      "        and the function returns n!.\n",
      "        \n",
      "        Raises TypeError if either of the arguments are not integers.\n",
      "        Raises ValueError if either of the arguments are negative.\n",
      "    \n",
      "    pow(x, y, /)\n",
      "        Return x**y (x to the power of y).\n",
      "    \n",
      "    prod(iterable, /, *, start=1)\n",
      "        Calculate the product of all the elements in the input iterable.\n",
      "        \n",
      "        The default start value for the product is 1.\n",
      "        \n",
      "        When the iterable is empty, return the start value.  This function is\n",
      "        intended specifically for use with numeric values and may reject\n",
      "        non-numeric types.\n",
      "    \n",
      "    radians(x, /)\n",
      "        Convert angle x from degrees to radians.\n",
      "    \n",
      "    remainder(x, y, /)\n",
      "        Difference between x and the closest integer multiple of y.\n",
      "        \n",
      "        Return x - n*y where n*y is the closest integer multiple of y.\n",
      "        In the case where x is exactly halfway between two multiples of\n",
      "        y, the nearest even value of n is used. The result is always exact.\n",
      "    \n",
      "    sin(x, /)\n",
      "        Return the sine of x (measured in radians).\n",
      "    \n",
      "    sinh(x, /)\n",
      "        Return the hyperbolic sine of x.\n",
      "    \n",
      "    sqrt(x, /)\n",
      "        Return the square root of x.\n",
      "    \n",
      "    tan(x, /)\n",
      "        Return the tangent of x (measured in radians).\n",
      "    \n",
      "    tanh(x, /)\n",
      "        Return the hyperbolic tangent of x.\n",
      "    \n",
      "    trunc(x, /)\n",
      "        Truncates the Real x to the nearest Integral toward 0.\n",
      "        \n",
      "        Uses the __trunc__ magic method.\n",
      "    \n",
      "    ulp(x, /)\n",
      "        Return the value of the least significant bit of the float x.\n",
      "\n",
      "DATA\n",
      "    e = 2.718281828459045\n",
      "    inf = inf\n",
      "    nan = nan\n",
      "    pi = 3.141592653589793\n",
      "    tau = 6.283185307179586\n",
      "\n",
      "FILE\n",
      "    (built-in)\n",
      "\n",
      "\n"
     ]
    }
   ],
   "source": [
    "help(math)"
   ]
  },
  {
   "cell_type": "code",
   "execution_count": 67,
   "id": "3aa5c310-7a90-4f33-8161-c562eba81537",
   "metadata": {},
   "outputs": [
    {
     "data": {
      "text/plain": [
       "4.795831523312719"
      ]
     },
     "execution_count": 67,
     "metadata": {},
     "output_type": "execute_result"
    }
   ],
   "source": [
    "math.sqrt(23)"
   ]
  },
  {
   "cell_type": "code",
   "execution_count": 68,
   "id": "ae209ac4-3291-4eec-bd06-1bda77c4083c",
   "metadata": {},
   "outputs": [
    {
     "ename": "AttributeError",
     "evalue": "module 'math' has no attribute 'fatorial'",
     "output_type": "error",
     "traceback": [
      "\u001b[1;31m---------------------------------------------------------------------------\u001b[0m",
      "\u001b[1;31mAttributeError\u001b[0m                            Traceback (most recent call last)",
      "Cell \u001b[1;32mIn[68], line 1\u001b[0m\n\u001b[1;32m----> 1\u001b[0m math\u001b[38;5;241m.\u001b[39mfatorial(\u001b[38;5;241m5\u001b[39m)\n",
      "\u001b[1;31mAttributeError\u001b[0m: module 'math' has no attribute 'fatorial'"
     ]
    }
   ],
   "source": [
    "math.fatorial(5)"
   ]
  },
  {
   "cell_type": "code",
   "execution_count": 69,
   "id": "0e6dffa8-4b5f-4704-a752-51e0b143138f",
   "metadata": {},
   "outputs": [
    {
     "data": {
      "text/plain": [
       "3.141592653589793"
      ]
     },
     "execution_count": 69,
     "metadata": {},
     "output_type": "execute_result"
    }
   ],
   "source": [
    "math.pi"
   ]
  },
  {
   "cell_type": "code",
   "execution_count": 70,
   "id": "f220a5f1-c1e2-443f-a370-9cd2d2eba851",
   "metadata": {},
   "outputs": [],
   "source": [
    "import math as m"
   ]
  },
  {
   "cell_type": "code",
   "execution_count": 71,
   "id": "43121237-6c63-4b60-9132-51877a166289",
   "metadata": {},
   "outputs": [
    {
     "ename": "TypeError",
     "evalue": "math.sqrt() takes exactly one argument (0 given)",
     "output_type": "error",
     "traceback": [
      "\u001b[1;31m---------------------------------------------------------------------------\u001b[0m",
      "\u001b[1;31mTypeError\u001b[0m                                 Traceback (most recent call last)",
      "Cell \u001b[1;32mIn[71], line 1\u001b[0m\n\u001b[1;32m----> 1\u001b[0m m\u001b[38;5;241m.\u001b[39msqrt()\n",
      "\u001b[1;31mTypeError\u001b[0m: math.sqrt() takes exactly one argument (0 given)"
     ]
    }
   ],
   "source": [
    "m.sqrt()"
   ]
  },
  {
   "cell_type": "code",
   "execution_count": 72,
   "id": "8e6c5b57-cd7b-4556-9950-01c7c641d0ed",
   "metadata": {},
   "outputs": [
    {
     "data": {
      "text/plain": [
       "5.477225575051661"
      ]
     },
     "execution_count": 72,
     "metadata": {},
     "output_type": "execute_result"
    }
   ],
   "source": [
    "m.sqrt(30)"
   ]
  },
  {
   "cell_type": "code",
   "execution_count": 73,
   "id": "82f7ab65-5183-483a-bdba-f1b56bf3873f",
   "metadata": {},
   "outputs": [],
   "source": [
    "from math import sqrt,pi"
   ]
  },
  {
   "cell_type": "code",
   "execution_count": 74,
   "id": "9fa1fd25-67d9-4540-ad39-374f0929232a",
   "metadata": {},
   "outputs": [
    {
     "data": {
      "text/plain": [
       "4.898979485566356"
      ]
     },
     "execution_count": 74,
     "metadata": {},
     "output_type": "execute_result"
    }
   ],
   "source": [
    "sqrt(24)"
   ]
  },
  {
   "cell_type": "code",
   "execution_count": 75,
   "id": "f9e552f0-d44a-4e7b-92ad-777f76725e7b",
   "metadata": {},
   "outputs": [],
   "source": [
    "import numpy as np\n"
   ]
  },
  {
   "cell_type": "code",
   "execution_count": 76,
   "id": "6ddca2af-4449-4222-9cb3-a43b2ac1d2ba",
   "metadata": {},
   "outputs": [],
   "source": [
    "####create the array"
   ]
  },
  {
   "cell_type": "code",
   "execution_count": 77,
   "id": "4095ccfe-0ea6-4298-b26b-248d74aa31b7",
   "metadata": {},
   "outputs": [],
   "source": [
    "x=np.array([56,12,35,71,11,28])"
   ]
  },
  {
   "cell_type": "code",
   "execution_count": 78,
   "id": "0fc20dca-0b9f-4759-b0a8-2d5e20b20d14",
   "metadata": {},
   "outputs": [
    {
     "name": "stdout",
     "output_type": "stream",
     "text": [
      "[56 12 35 71 11 28]\n"
     ]
    }
   ],
   "source": [
    "print(x)"
   ]
  },
  {
   "cell_type": "code",
   "execution_count": 79,
   "id": "95c2d64c-6fe5-4bc8-b32e-42a650fa65a9",
   "metadata": {},
   "outputs": [
    {
     "data": {
      "text/plain": [
       "1"
      ]
     },
     "execution_count": 79,
     "metadata": {},
     "output_type": "execute_result"
    }
   ],
   "source": [
    "x.ndim"
   ]
  },
  {
   "cell_type": "code",
   "execution_count": 80,
   "id": "e1c6a56c-cf3c-4547-becd-52617c950250",
   "metadata": {},
   "outputs": [
    {
     "data": {
      "text/plain": [
       "numpy.ndarray"
      ]
     },
     "execution_count": 80,
     "metadata": {},
     "output_type": "execute_result"
    }
   ],
   "source": [
    "type(x)"
   ]
  },
  {
   "cell_type": "code",
   "execution_count": 81,
   "id": "29f74a38-2cb9-4b50-b7ba-a0167cb93e97",
   "metadata": {},
   "outputs": [
    {
     "data": {
      "text/plain": [
       "array([56, 12, 35, 71, 11, 28])"
      ]
     },
     "execution_count": 81,
     "metadata": {},
     "output_type": "execute_result"
    }
   ],
   "source": [
    "x"
   ]
  },
  {
   "cell_type": "code",
   "execution_count": 82,
   "id": "88310350-799f-4797-9e43-0afaf2b5e633",
   "metadata": {},
   "outputs": [
    {
     "data": {
      "text/plain": [
       "dtype('int32')"
      ]
     },
     "execution_count": 82,
     "metadata": {},
     "output_type": "execute_result"
    }
   ],
   "source": [
    "x.dtype"
   ]
  },
  {
   "cell_type": "code",
   "execution_count": 83,
   "id": "d216d0d6-1e8f-40ff-bfac-6eb623b2dd9e",
   "metadata": {},
   "outputs": [],
   "source": [
    "x=np.array([20,30,42],dtype=np.int8)"
   ]
  },
  {
   "cell_type": "code",
   "execution_count": 84,
   "id": "9d1ef089-f438-4372-89f2-c357d0cb8a65",
   "metadata": {},
   "outputs": [
    {
     "data": {
      "text/plain": [
       "array([20, 30, 42], dtype=int8)"
      ]
     },
     "execution_count": 84,
     "metadata": {},
     "output_type": "execute_result"
    }
   ],
   "source": [
    "x"
   ]
  },
  {
   "cell_type": "code",
   "execution_count": 85,
   "id": "7e938f85-d950-47ab-aca6-e55825d12c80",
   "metadata": {},
   "outputs": [
    {
     "data": {
      "text/plain": [
       "dtype('int8')"
      ]
     },
     "execution_count": 85,
     "metadata": {},
     "output_type": "execute_result"
    }
   ],
   "source": [
    "x.dtype"
   ]
  },
  {
   "cell_type": "code",
   "execution_count": 90,
   "id": "10053e56-dc9e-4584-9a1f-b4a3cd22cdab",
   "metadata": {},
   "outputs": [
    {
     "ename": "NameError",
     "evalue": "name 'uint8' is not defined",
     "output_type": "error",
     "traceback": [
      "\u001b[1;31m---------------------------------------------------------------------------\u001b[0m",
      "\u001b[1;31mNameError\u001b[0m                                 Traceback (most recent call last)",
      "Cell \u001b[1;32mIn[90], line 1\u001b[0m\n\u001b[1;32m----> 1\u001b[0m np\u001b[38;5;241m.\u001b[39marray([\u001b[38;5;241m1\u001b[39m,\u001b[38;5;241m12\u001b[39m], dtype\u001b[38;5;241m=\u001b[39muint8)\n",
      "\u001b[1;31mNameError\u001b[0m: name 'uint8' is not defined"
     ]
    }
   ],
   "source": [
    "np.array([1,12], dtype=uint8)"
   ]
  },
  {
   "cell_type": "code",
   "execution_count": 91,
   "id": "e16b69d9-85a2-4e58-8901-f53f8e89a28f",
   "metadata": {},
   "outputs": [
    {
     "ename": "AttributeError",
     "evalue": "module 'numpy' has no attribute 'arrange'",
     "output_type": "error",
     "traceback": [
      "\u001b[1;31m---------------------------------------------------------------------------\u001b[0m",
      "\u001b[1;31mAttributeError\u001b[0m                            Traceback (most recent call last)",
      "Cell \u001b[1;32mIn[91], line 1\u001b[0m\n\u001b[1;32m----> 1\u001b[0m np\u001b[38;5;241m.\u001b[39marrange(\u001b[38;5;241m2\u001b[39m,\u001b[38;5;241m20\u001b[39m,\u001b[38;5;241m.33\u001b[39m)\n",
      "File \u001b[1;32mC:\\ProgramData\\anaconda3\\Lib\\site-packages\\numpy\\__init__.py:333\u001b[0m, in \u001b[0;36m__getattr__\u001b[1;34m(attr)\u001b[0m\n\u001b[0;32m    330\u001b[0m     \u001b[38;5;124m\"\u001b[39m\u001b[38;5;124mRemoved in NumPy 1.25.0\u001b[39m\u001b[38;5;124m\"\u001b[39m\n\u001b[0;32m    331\u001b[0m     \u001b[38;5;28;01mraise\u001b[39;00m \u001b[38;5;167;01mRuntimeError\u001b[39;00m(\u001b[38;5;124m\"\u001b[39m\u001b[38;5;124mTester was removed in NumPy 1.25.\u001b[39m\u001b[38;5;124m\"\u001b[39m)\n\u001b[1;32m--> 333\u001b[0m \u001b[38;5;28;01mraise\u001b[39;00m \u001b[38;5;167;01mAttributeError\u001b[39;00m(\u001b[38;5;124m\"\u001b[39m\u001b[38;5;124mmodule \u001b[39m\u001b[38;5;132;01m{!r}\u001b[39;00m\u001b[38;5;124m has no attribute \u001b[39m\u001b[38;5;124m\"\u001b[39m\n\u001b[0;32m    334\u001b[0m                      \u001b[38;5;124m\"\u001b[39m\u001b[38;5;132;01m{!r}\u001b[39;00m\u001b[38;5;124m\"\u001b[39m\u001b[38;5;241m.\u001b[39mformat(\u001b[38;5;18m__name__\u001b[39m, attr))\n",
      "\u001b[1;31mAttributeError\u001b[0m: module 'numpy' has no attribute 'arrange'"
     ]
    }
   ],
   "source": [
    "np.arrange(2,20,.33)"
   ]
  },
  {
   "cell_type": "code",
   "execution_count": 92,
   "id": "64bb460a-eb91-495f-919c-13f96072ecfc",
   "metadata": {},
   "outputs": [
    {
     "data": {
      "text/plain": [
       "array([2.  , 2.33, 2.66, 2.99, 3.32, 3.65, 3.98, 4.31, 4.64, 4.97, 5.3 ,\n",
       "       5.63, 5.96, 6.29, 6.62, 6.95, 7.28, 7.61, 7.94, 8.27, 8.6 , 8.93,\n",
       "       9.26, 9.59, 9.92])"
      ]
     },
     "execution_count": 92,
     "metadata": {},
     "output_type": "execute_result"
    }
   ],
   "source": [
    "np.arange(2,10,.33)"
   ]
  },
  {
   "cell_type": "markdown",
   "id": "a2868dac-cd0c-4558-bf27-fc9d043db559",
   "metadata": {},
   "source": [
    "##### arrary operation"
   ]
  },
  {
   "cell_type": "code",
   "execution_count": 95,
   "id": "95283b15-e031-42ec-92bc-b9f66ba74e44",
   "metadata": {},
   "outputs": [],
   "source": [
    "num1=np.array([56,12,33,14,68,99])\n",
    "num2=np.array([28,28,19,39,38,74])"
   ]
  },
  {
   "cell_type": "code",
   "execution_count": 96,
   "id": "4846312a-e745-4eb5-8777-a13cfe29f58a",
   "metadata": {},
   "outputs": [
    {
     "data": {
      "text/plain": [
       "array([ 66,  22,  43,  24,  78, 109])"
      ]
     },
     "execution_count": 96,
     "metadata": {},
     "output_type": "execute_result"
    }
   ],
   "source": [
    "num1+10"
   ]
  },
  {
   "cell_type": "code",
   "execution_count": 97,
   "id": "a46d48aa-1a39-4de1-bd05-5d615cf26483",
   "metadata": {},
   "outputs": [
    {
     "data": {
      "text/plain": [
       "array([11.2,  2.4,  6.6,  2.8, 13.6, 19.8])"
      ]
     },
     "execution_count": 97,
     "metadata": {},
     "output_type": "execute_result"
    }
   ],
   "source": [
    "num1/5"
   ]
  },
  {
   "cell_type": "code",
   "execution_count": 98,
   "id": "410f66c8-2f22-4f27-b985-2fc09cda3f30",
   "metadata": {},
   "outputs": [
    {
     "data": {
      "text/plain": [
       "array([224,  48, 132,  56, 272, 396])"
      ]
     },
     "execution_count": 98,
     "metadata": {},
     "output_type": "execute_result"
    }
   ],
   "source": [
    "num1*4"
   ]
  },
  {
   "cell_type": "code",
   "execution_count": 102,
   "id": "db577c5d-3517-490d-bc13-92b043f46135",
   "metadata": {},
   "outputs": [
    {
     "data": {
      "text/plain": [
       "[28, 28, 19, 39, 38, 74, 28, 28, 19, 39, 38, 74, 28, 28, 19, 39, 38, 74]"
      ]
     },
     "execution_count": 102,
     "metadata": {},
     "output_type": "execute_result"
    }
   ],
   "source": [
    "[28,28,19,39,38,74]*3"
   ]
  },
  {
   "cell_type": "code",
   "execution_count": 103,
   "id": "5eb11c88-8799-480d-98ca-b199cd143873",
   "metadata": {},
   "outputs": [
    {
     "data": {
      "text/plain": [
       "array([ 84,  40,  52,  53, 106, 173])"
      ]
     },
     "execution_count": 103,
     "metadata": {},
     "output_type": "execute_result"
    }
   ],
   "source": [
    "num1+num2"
   ]
  },
  {
   "cell_type": "code",
   "execution_count": 104,
   "id": "4757bf60-1c44-4e61-8fa5-7d0ea2b8699b",
   "metadata": {},
   "outputs": [
    {
     "data": {
      "text/plain": [
       "array([ 28, -16,  14, -25,  30,  25])"
      ]
     },
     "execution_count": 104,
     "metadata": {},
     "output_type": "execute_result"
    }
   ],
   "source": [
    "num1-num2"
   ]
  },
  {
   "cell_type": "code",
   "execution_count": 106,
   "id": "b77c3779-b7ed-49d1-9436-4dd0bd5dfaae",
   "metadata": {},
   "outputs": [],
   "source": [
    "num1=np.array([[56,12,33,14,68,99],[28,28,19,39,38,74]])"
   ]
  },
  {
   "cell_type": "code",
   "execution_count": 107,
   "id": "de8b3ccb-2874-4444-b432-5ce6f4842dea",
   "metadata": {},
   "outputs": [
    {
     "data": {
      "text/plain": [
       "array([[56, 12, 33, 14, 68, 99],\n",
       "       [28, 28, 19, 39, 38, 74]])"
      ]
     },
     "execution_count": 107,
     "metadata": {},
     "output_type": "execute_result"
    }
   ],
   "source": [
    "num1"
   ]
  },
  {
   "cell_type": "code",
   "execution_count": 108,
   "id": "07c33ac0-a1a0-4be6-9337-0ec39f7504f9",
   "metadata": {},
   "outputs": [
    {
     "data": {
      "text/plain": [
       "dtype('int32')"
      ]
     },
     "execution_count": 108,
     "metadata": {},
     "output_type": "execute_result"
    }
   ],
   "source": [
    "num1.dtype"
   ]
  },
  {
   "cell_type": "code",
   "execution_count": 109,
   "id": "83e1dcef-5d0a-4fdd-acbe-3fcac0e3a6d3",
   "metadata": {},
   "outputs": [
    {
     "data": {
      "text/plain": [
       "(2, 6)"
      ]
     },
     "execution_count": 109,
     "metadata": {},
     "output_type": "execute_result"
    }
   ],
   "source": [
    "num1.shape"
   ]
  },
  {
   "cell_type": "code",
   "execution_count": 110,
   "id": "6c13bb72-d1fb-47d3-b61e-eeae8ee8845b",
   "metadata": {},
   "outputs": [
    {
     "data": {
      "text/plain": [
       "12"
      ]
     },
     "execution_count": 110,
     "metadata": {},
     "output_type": "execute_result"
    }
   ],
   "source": [
    "num1.size"
   ]
  },
  {
   "cell_type": "code",
   "execution_count": 112,
   "id": "5a605240-8cda-451e-8003-232803a8bcba",
   "metadata": {},
   "outputs": [
    {
     "data": {
      "text/plain": [
       "2"
      ]
     },
     "execution_count": 112,
     "metadata": {},
     "output_type": "execute_result"
    }
   ],
   "source": [
    "num1.ndim"
   ]
  },
  {
   "cell_type": "code",
   "execution_count": 114,
   "id": "161250c4-6868-4851-8432-0d1447358934",
   "metadata": {},
   "outputs": [
    {
     "data": {
      "text/plain": [
       "12"
      ]
     },
     "execution_count": 114,
     "metadata": {},
     "output_type": "execute_result"
    }
   ],
   "source": [
    "num1[0][1]"
   ]
  },
  {
   "cell_type": "code",
   "execution_count": 115,
   "id": "e21bd430-083b-4dfe-9839-c6caac0607e2",
   "metadata": {},
   "outputs": [
    {
     "data": {
      "text/plain": [
       "12"
      ]
     },
     "execution_count": 115,
     "metadata": {},
     "output_type": "execute_result"
    }
   ],
   "source": [
    "num1[0,1]"
   ]
  },
  {
   "cell_type": "code",
   "execution_count": 116,
   "id": "0327d33d-7181-4166-bb41-ae73d83cd6b0",
   "metadata": {},
   "outputs": [
    {
     "ename": "AttributeError",
     "evalue": "'numpy.ndarray' object has no attribute 't'",
     "output_type": "error",
     "traceback": [
      "\u001b[1;31m---------------------------------------------------------------------------\u001b[0m",
      "\u001b[1;31mAttributeError\u001b[0m                            Traceback (most recent call last)",
      "Cell \u001b[1;32mIn[116], line 1\u001b[0m\n\u001b[1;32m----> 1\u001b[0m num1\u001b[38;5;241m.\u001b[39mt\n",
      "\u001b[1;31mAttributeError\u001b[0m: 'numpy.ndarray' object has no attribute 't'"
     ]
    }
   ],
   "source": [
    "num1.t"
   ]
  },
  {
   "cell_type": "code",
   "execution_count": 117,
   "id": "6911708b-011d-49c5-8d81-8ac6c81f7c31",
   "metadata": {},
   "outputs": [
    {
     "data": {
      "text/plain": [
       "array([[56, 28],\n",
       "       [12, 28],\n",
       "       [33, 19],\n",
       "       [14, 39],\n",
       "       [68, 38],\n",
       "       [99, 74]])"
      ]
     },
     "execution_count": 117,
     "metadata": {},
     "output_type": "execute_result"
    }
   ],
   "source": [
    "num1.T"
   ]
  },
  {
   "cell_type": "code",
   "execution_count": 119,
   "id": "7420cf37-2e13-4ef3-a090-b208d422966e",
   "metadata": {},
   "outputs": [
    {
     "data": {
      "text/plain": [
       "array([[56, 12, 33],\n",
       "       [14, 68, 99],\n",
       "       [28, 28, 19],\n",
       "       [39, 38, 74]])"
      ]
     },
     "execution_count": 119,
     "metadata": {},
     "output_type": "execute_result"
    }
   ],
   "source": [
    "num1.reshape(4,3)"
   ]
  },
  {
   "cell_type": "code",
   "execution_count": null,
   "id": "e0983ac0-10b2-4caa-85c6-a57cf30a59a8",
   "metadata": {},
   "outputs": [],
   "source": []
  }
 ],
 "metadata": {
  "kernelspec": {
   "display_name": "Python 3 (ipykernel)",
   "language": "python",
   "name": "python3"
  },
  "language_info": {
   "codemirror_mode": {
    "name": "ipython",
    "version": 3
   },
   "file_extension": ".py",
   "mimetype": "text/x-python",
   "name": "python",
   "nbconvert_exporter": "python",
   "pygments_lexer": "ipython3",
   "version": "3.11.7"
  }
 },
 "nbformat": 4,
 "nbformat_minor": 5
}
