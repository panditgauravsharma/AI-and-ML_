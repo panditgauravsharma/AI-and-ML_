{
 "cells": [
  {
   "cell_type": "code",
   "execution_count": 2,
   "id": "1e36678c-70e7-431f-8a4a-2e3f25832e4b",
   "metadata": {},
   "outputs": [],
   "source": [
    "import cv2\n",
    "#loat the image\n",
    "\n"
   ]
  },
  {
   "cell_type": "code",
   "execution_count": null,
   "id": "d7a1c7ec-7a89-4bfe-b729-40ebcef3785f",
   "metadata": {},
   "outputs": [],
   "source": []
  }
 ],
 "metadata": {
  "kernelspec": {
   "display_name": "Python 3 (ipykernel)",
   "language": "python",
   "name": "python3"
  },
  "language_info": {
   "codemirror_mode": {
    "name": "ipython",
    "version": 3
   },
   "file_extension": ".py",
   "mimetype": "text/x-python",
   "name": "python",
   "nbconvert_exporter": "python",
   "pygments_lexer": "ipython3",
   "version": "3.11.7"
  }
 },
 "nbformat": 4,
 "nbformat_minor": 5
}
