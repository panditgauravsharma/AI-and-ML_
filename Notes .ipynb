{
 "cells": [
  {
   "cell_type": "code",
   "execution_count": 2,
   "id": "2b09044c-13e1-4705-bdd8-0ad15e1de755",
   "metadata": {},
   "outputs": [],
   "source": [
    "#sort_values() : it is a function which is used to sort the data"
   ]
  },
  {
   "cell_type": "code",
   "execution_count": null,
   "id": "c2ef96e1-7662-4865-b15e-386860e50178",
   "metadata": {},
   "outputs": [],
   "source": []
  }
 ],
 "metadata": {
  "kernelspec": {
   "display_name": "Python 3 (ipykernel)",
   "language": "python",
   "name": "python3"
  },
  "language_info": {
   "codemirror_mode": {
    "name": "ipython",
    "version": 3
   },
   "file_extension": ".py",
   "mimetype": "text/x-python",
   "name": "python",
   "nbconvert_exporter": "python",
   "pygments_lexer": "ipython3",
   "version": "3.11.7"
  }
 },
 "nbformat": 4,
 "nbformat_minor": 5
}
