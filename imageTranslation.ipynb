{
 "cells": [
  {
   "cell_type": "code",
   "execution_count": 8,
   "id": "75705869-f7db-4fb6-b7bf-a05fbfd12c00",
   "metadata": {},
   "outputs": [],
   "source": [
    "import cv2\n",
    "import numpy as np\n",
    "import matplotlib.pyplot as plt"
   ]
  },
  {
   "cell_type": "code",
   "execution_count": 19,
   "id": "6279556e-71b7-43e1-8a30-cf8e8d8dd125",
   "metadata": {},
   "outputs": [],
   "source": [
    "image=cv2.imread('images/lenna.png')\n",
    "height, width=image.shape[:2]\n",
    "quarter_height, quarter_width=height/4, width/4\n",
    "T=np.float32([[1,0,quarter_width],[0,1,quarter_height]])\n",
    "img_translation=cv2.warpAffine(image,T,(width,height))\n"
   ]
  },
  {
   "cell_type": "code",
   "execution_count": 20,
   "id": "7a70104a-12c8-4749-a50d-452fc86991d8",
   "metadata": {},
   "outputs": [],
   "source": [
    "cv2.imshow('original image',image)\n",
    "cv2.imshow('translated',img_translation)\n",
    "cv2.waitKey(0)\n",
    "cv2.destroyAllWindows()"
   ]
  },
  {
   "cell_type": "code",
   "execution_count": 17,
   "id": "57cc9c3e-9da1-4a04-9275-fd1343a3ab71",
   "metadata": {},
   "outputs": [],
   "source": [
    "T=np.float32([[1,0,40],[0,1,100]])\n",
    "img_translation=cv2.warpAffine(image,T,(width+100,height+100))\n",
    "cv2.imshow('original image',image)\n",
    "cv2.imshow('translated',img_translation)\n",
    "cv2.waitKey(0)\n",
    "cv2.destroyAllWindows()"
   ]
  },
  {
   "cell_type": "code",
   "execution_count": null,
   "id": "15d5f47c-b449-4c6c-ace5-36d24b97d514",
   "metadata": {},
   "outputs": [],
   "source": []
  }
 ],
 "metadata": {
  "kernelspec": {
   "display_name": "Python 3 (ipykernel)",
   "language": "python",
   "name": "python3"
  },
  "language_info": {
   "codemirror_mode": {
    "name": "ipython",
    "version": 3
   },
   "file_extension": ".py",
   "mimetype": "text/x-python",
   "name": "python",
   "nbconvert_exporter": "python",
   "pygments_lexer": "ipython3",
   "version": "3.11.7"
  }
 },
 "nbformat": 4,
 "nbformat_minor": 5
}
